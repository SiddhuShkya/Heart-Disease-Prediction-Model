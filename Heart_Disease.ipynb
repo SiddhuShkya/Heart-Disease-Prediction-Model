{
 "cells": [
  {
   "cell_type": "markdown",
   "id": "7d676a42",
   "metadata": {},
   "source": [
    "# Importing Necessary Libraries"
   ]
  },
  {
   "cell_type": "markdown",
   "id": "2ec92e21",
   "metadata": {},
   "source": [
    "In this starting section of our code we will be mentioning every python builtin libraries we have used for our model"
   ]
  },
  {
   "cell_type": "code",
   "execution_count": 1,
   "id": "055cae68",
   "metadata": {},
   "outputs": [],
   "source": [
    "# Importing pandas for data manipulation\n",
    "import pandas as pd\n",
    "# Importing numpy for numerical computations\n",
    "import numpy as np\n",
    "# Importing train_test_split function from sklearn\n",
    "from sklearn.model_selection import train_test_split as tts\n",
    "# Importing confusion_matrix function from sklearn\n",
    "from sklearn.metrics import confusion_matrix\n",
    "# Importing PCA class from sklearn\n",
    "from sklearn.decomposition import PCA\n",
    "# Importing matplotlib for plotting\n",
    "import matplotlib.pyplot as plt\n",
    "# Importing seaborn for visualization\n",
    "import seaborn as sns"
   ]
  },
  {
   "cell_type": "markdown",
   "id": "5f84428d",
   "metadata": {},
   "source": [
    "# Loading Our Dataset"
   ]
  },
  {
   "cell_type": "markdown",
   "id": "77174b3f",
   "metadata": {},
   "source": [
    "In this section of our code we will be reading our dataset into pandas dataframe using pandas"
   ]
  },
  {
   "cell_type": "code",
   "execution_count": 2,
   "id": "d1bba5c7",
   "metadata": {},
   "outputs": [
    {
     "data": {
      "text/html": [
       "<div>\n",
       "<style scoped>\n",
       "    .dataframe tbody tr th:only-of-type {\n",
       "        vertical-align: middle;\n",
       "    }\n",
       "\n",
       "    .dataframe tbody tr th {\n",
       "        vertical-align: top;\n",
       "    }\n",
       "\n",
       "    .dataframe thead th {\n",
       "        text-align: right;\n",
       "    }\n",
       "</style>\n",
       "<table border=\"1\" class=\"dataframe\">\n",
       "  <thead>\n",
       "    <tr style=\"text-align: right;\">\n",
       "      <th></th>\n",
       "      <th>age</th>\n",
       "      <th>sex</th>\n",
       "      <th>cp</th>\n",
       "      <th>trestbps</th>\n",
       "      <th>chol</th>\n",
       "      <th>fbs</th>\n",
       "      <th>restecg</th>\n",
       "      <th>thalach</th>\n",
       "      <th>exang</th>\n",
       "      <th>oldpeak</th>\n",
       "      <th>slope</th>\n",
       "      <th>ca</th>\n",
       "      <th>thal</th>\n",
       "      <th>target</th>\n",
       "    </tr>\n",
       "  </thead>\n",
       "  <tbody>\n",
       "    <tr>\n",
       "      <th>56</th>\n",
       "      <td>48</td>\n",
       "      <td>1</td>\n",
       "      <td>0</td>\n",
       "      <td>122</td>\n",
       "      <td>222</td>\n",
       "      <td>0</td>\n",
       "      <td>0</td>\n",
       "      <td>186</td>\n",
       "      <td>0</td>\n",
       "      <td>0.0</td>\n",
       "      <td>2</td>\n",
       "      <td>0</td>\n",
       "      <td>2</td>\n",
       "      <td>1</td>\n",
       "    </tr>\n",
       "    <tr>\n",
       "      <th>118</th>\n",
       "      <td>46</td>\n",
       "      <td>0</td>\n",
       "      <td>1</td>\n",
       "      <td>105</td>\n",
       "      <td>204</td>\n",
       "      <td>0</td>\n",
       "      <td>1</td>\n",
       "      <td>172</td>\n",
       "      <td>0</td>\n",
       "      <td>0.0</td>\n",
       "      <td>2</td>\n",
       "      <td>0</td>\n",
       "      <td>2</td>\n",
       "      <td>1</td>\n",
       "    </tr>\n",
       "    <tr>\n",
       "      <th>21</th>\n",
       "      <td>44</td>\n",
       "      <td>1</td>\n",
       "      <td>2</td>\n",
       "      <td>130</td>\n",
       "      <td>233</td>\n",
       "      <td>0</td>\n",
       "      <td>1</td>\n",
       "      <td>179</td>\n",
       "      <td>1</td>\n",
       "      <td>0.4</td>\n",
       "      <td>2</td>\n",
       "      <td>0</td>\n",
       "      <td>2</td>\n",
       "      <td>1</td>\n",
       "    </tr>\n",
       "    <tr>\n",
       "      <th>268</th>\n",
       "      <td>54</td>\n",
       "      <td>1</td>\n",
       "      <td>0</td>\n",
       "      <td>122</td>\n",
       "      <td>286</td>\n",
       "      <td>0</td>\n",
       "      <td>0</td>\n",
       "      <td>116</td>\n",
       "      <td>1</td>\n",
       "      <td>3.2</td>\n",
       "      <td>1</td>\n",
       "      <td>2</td>\n",
       "      <td>2</td>\n",
       "      <td>0</td>\n",
       "    </tr>\n",
       "    <tr>\n",
       "      <th>115</th>\n",
       "      <td>37</td>\n",
       "      <td>0</td>\n",
       "      <td>2</td>\n",
       "      <td>120</td>\n",
       "      <td>215</td>\n",
       "      <td>0</td>\n",
       "      <td>1</td>\n",
       "      <td>170</td>\n",
       "      <td>0</td>\n",
       "      <td>0.0</td>\n",
       "      <td>2</td>\n",
       "      <td>0</td>\n",
       "      <td>2</td>\n",
       "      <td>1</td>\n",
       "    </tr>\n",
       "    <tr>\n",
       "      <th>229</th>\n",
       "      <td>64</td>\n",
       "      <td>1</td>\n",
       "      <td>2</td>\n",
       "      <td>125</td>\n",
       "      <td>309</td>\n",
       "      <td>0</td>\n",
       "      <td>1</td>\n",
       "      <td>131</td>\n",
       "      <td>1</td>\n",
       "      <td>1.8</td>\n",
       "      <td>1</td>\n",
       "      <td>0</td>\n",
       "      <td>3</td>\n",
       "      <td>0</td>\n",
       "    </tr>\n",
       "    <tr>\n",
       "      <th>117</th>\n",
       "      <td>56</td>\n",
       "      <td>1</td>\n",
       "      <td>3</td>\n",
       "      <td>120</td>\n",
       "      <td>193</td>\n",
       "      <td>0</td>\n",
       "      <td>0</td>\n",
       "      <td>162</td>\n",
       "      <td>0</td>\n",
       "      <td>1.9</td>\n",
       "      <td>1</td>\n",
       "      <td>0</td>\n",
       "      <td>3</td>\n",
       "      <td>1</td>\n",
       "    </tr>\n",
       "    <tr>\n",
       "      <th>42</th>\n",
       "      <td>45</td>\n",
       "      <td>1</td>\n",
       "      <td>0</td>\n",
       "      <td>104</td>\n",
       "      <td>208</td>\n",
       "      <td>0</td>\n",
       "      <td>0</td>\n",
       "      <td>148</td>\n",
       "      <td>1</td>\n",
       "      <td>3.0</td>\n",
       "      <td>1</td>\n",
       "      <td>0</td>\n",
       "      <td>2</td>\n",
       "      <td>1</td>\n",
       "    </tr>\n",
       "    <tr>\n",
       "      <th>135</th>\n",
       "      <td>49</td>\n",
       "      <td>0</td>\n",
       "      <td>0</td>\n",
       "      <td>130</td>\n",
       "      <td>269</td>\n",
       "      <td>0</td>\n",
       "      <td>1</td>\n",
       "      <td>163</td>\n",
       "      <td>0</td>\n",
       "      <td>0.0</td>\n",
       "      <td>2</td>\n",
       "      <td>0</td>\n",
       "      <td>2</td>\n",
       "      <td>1</td>\n",
       "    </tr>\n",
       "    <tr>\n",
       "      <th>297</th>\n",
       "      <td>59</td>\n",
       "      <td>1</td>\n",
       "      <td>0</td>\n",
       "      <td>164</td>\n",
       "      <td>176</td>\n",
       "      <td>1</td>\n",
       "      <td>0</td>\n",
       "      <td>90</td>\n",
       "      <td>0</td>\n",
       "      <td>1.0</td>\n",
       "      <td>1</td>\n",
       "      <td>2</td>\n",
       "      <td>1</td>\n",
       "      <td>0</td>\n",
       "    </tr>\n",
       "  </tbody>\n",
       "</table>\n",
       "</div>"
      ],
      "text/plain": [
       "     age  sex  cp  trestbps  chol  fbs  restecg  thalach  exang  oldpeak  \\\n",
       "56    48    1   0       122   222    0        0      186      0      0.0   \n",
       "118   46    0   1       105   204    0        1      172      0      0.0   \n",
       "21    44    1   2       130   233    0        1      179      1      0.4   \n",
       "268   54    1   0       122   286    0        0      116      1      3.2   \n",
       "115   37    0   2       120   215    0        1      170      0      0.0   \n",
       "229   64    1   2       125   309    0        1      131      1      1.8   \n",
       "117   56    1   3       120   193    0        0      162      0      1.9   \n",
       "42    45    1   0       104   208    0        0      148      1      3.0   \n",
       "135   49    0   0       130   269    0        1      163      0      0.0   \n",
       "297   59    1   0       164   176    1        0       90      0      1.0   \n",
       "\n",
       "     slope  ca  thal  target  \n",
       "56       2   0     2       1  \n",
       "118      2   0     2       1  \n",
       "21       2   0     2       1  \n",
       "268      1   2     2       0  \n",
       "115      2   0     2       1  \n",
       "229      1   0     3       0  \n",
       "117      1   0     3       1  \n",
       "42       1   0     2       1  \n",
       "135      2   0     2       1  \n",
       "297      1   2     1       0  "
      ]
     },
     "execution_count": 2,
     "metadata": {},
     "output_type": "execute_result"
    }
   ],
   "source": [
    "# Reading the heart_Disease.csv file into a pandas dataframe\n",
    "df = pd.read_csv(\"data.csv\")\n",
    "# Displaying 10 random rows from the dataframe\n",
    "df.sample(10)"
   ]
  },
  {
   "cell_type": "markdown",
   "id": "c0df7d1f",
   "metadata": {},
   "source": [
    "# Data Understanding, Cleaning and Transformation"
   ]
  },
  {
   "cell_type": "code",
   "execution_count": 3,
   "id": "e4f98118",
   "metadata": {},
   "outputs": [
    {
     "name": "stdout",
     "output_type": "stream",
     "text": [
      "Rows : 303\n",
      "Columns : 14\n"
     ]
    }
   ],
   "source": [
    "# Finding the number of rows and columns in the dataframe\n",
    "rows, cols = df.shape\n",
    "# Printing the number of rows\n",
    "print(f\"Rows : {rows}\")\n",
    "# Printing the number of columns\n",
    "print(f\"Columns : {cols}\")"
   ]
  },
  {
   "cell_type": "raw",
   "id": "507aadf4",
   "metadata": {},
   "source": [
    "Column Details\n",
    "-> age - age in years\n",
    "-> sex - (1 = male; 0 = female)\n",
    "-> cp - chest pain type\n",
    "-> trestbps - resting blood pressure (in mm Hg on admission to the hospital)\n",
    "-> chol - serum cholestoral in mg/dl\n",
    "-> fbs - (fasting blood sugar > 120 mg/dl) (1 = true; 0 = false)\n",
    "-> restecg - resting electrocardiographic results\n",
    "-> thalach - maximum heart rate achieved\n",
    "-> exang - exercise induced angina (1 = yes; 0 = no)\n",
    "-> oldpeak - ST depression induced by exercise relative to rest\n",
    "-> slope - the slope of the peak exercise ST segment\n",
    "-> ca - number of major vessels (0-3) colored by flourosopy\n",
    "-> thal - 3 = normal; 6 = fixed defect; 7 = reversable defect\n",
    "-> target - have disease or not (1=yes, 0=no)\n",
    "\n",
    "There are 14 variables in this dataset:\n",
    "Number of categorical variables : 9\n",
    "Number of Numerical variables : 5\n",
    "\n",
    "Categorical Varaibles = [sex, cp, fbs, restcg, exang, slope, ca, thal, target]\n",
    "Numerical Variables = [age, trestbps, chol, thalach, oldpeak]\n",
    "\n",
    "Independent Variables = [age, sex, cp, trestbps, chol, fbs, restecg, thalach, exang, oldpeak, slope, ca, thal]\n",
    "Dependent Variable = [target]"
   ]
  },
  {
   "cell_type": "markdown",
   "id": "0770aed7",
   "metadata": {},
   "source": [
    "This dataset contains information about diagnoses of heart disease patients in which the target column determines whether a patient has a heart disease or not. "
   ]
  },
  {
   "cell_type": "code",
   "execution_count": 4,
   "id": "7cb61ebd",
   "metadata": {},
   "outputs": [
    {
     "name": "stdout",
     "output_type": "stream",
     "text": [
      "<class 'pandas.core.frame.DataFrame'>\n",
      "RangeIndex: 303 entries, 0 to 302\n",
      "Data columns (total 14 columns):\n",
      " #   Column    Non-Null Count  Dtype  \n",
      "---  ------    --------------  -----  \n",
      " 0   age       303 non-null    int64  \n",
      " 1   sex       303 non-null    int64  \n",
      " 2   cp        303 non-null    int64  \n",
      " 3   trestbps  303 non-null    int64  \n",
      " 4   chol      303 non-null    int64  \n",
      " 5   fbs       303 non-null    int64  \n",
      " 6   restecg   303 non-null    int64  \n",
      " 7   thalach   303 non-null    int64  \n",
      " 8   exang     303 non-null    int64  \n",
      " 9   oldpeak   303 non-null    float64\n",
      " 10  slope     303 non-null    int64  \n",
      " 11  ca        303 non-null    int64  \n",
      " 12  thal      303 non-null    int64  \n",
      " 13  target    303 non-null    int64  \n",
      "dtypes: float64(1), int64(13)\n",
      "memory usage: 33.3 KB\n"
     ]
    }
   ],
   "source": [
    "# Getting information about the dataframe\n",
    "df.info()"
   ]
  },
  {
   "cell_type": "markdown",
   "id": "ffbe7e59",
   "metadata": {},
   "source": [
    "From the above code we can see that we have 0 null values in our dataset."
   ]
  },
  {
   "cell_type": "markdown",
   "id": "09635df5",
   "metadata": {},
   "source": [
    "# Data Analysis"
   ]
  },
  {
   "cell_type": "code",
   "execution_count": 5,
   "id": "70bfcbe1",
   "metadata": {},
   "outputs": [
    {
     "data": {
      "text/plain": [
       "1    165\n",
       "0    138\n",
       "Name: target, dtype: int64"
      ]
     },
     "execution_count": 5,
     "metadata": {},
     "output_type": "execute_result"
    }
   ],
   "source": [
    "# Counting the number of occurrences of each unique value in the \"target\" column\n",
    "df[\"target\"].value_counts()"
   ]
  },
  {
   "cell_type": "markdown",
   "id": "00d78eab",
   "metadata": {},
   "source": [
    "The result of running the code shows that there are 165 instances with the class label 1 and 138 instances with the class label 0. which means that our data is somewhat balanced."
   ]
  },
  {
   "cell_type": "code",
   "execution_count": 6,
   "id": "79683e77",
   "metadata": {},
   "outputs": [
    {
     "data": {
      "text/html": [
       "<div>\n",
       "<style scoped>\n",
       "    .dataframe tbody tr th:only-of-type {\n",
       "        vertical-align: middle;\n",
       "    }\n",
       "\n",
       "    .dataframe tbody tr th {\n",
       "        vertical-align: top;\n",
       "    }\n",
       "\n",
       "    .dataframe thead th {\n",
       "        text-align: right;\n",
       "    }\n",
       "</style>\n",
       "<table border=\"1\" class=\"dataframe\">\n",
       "  <thead>\n",
       "    <tr style=\"text-align: right;\">\n",
       "      <th></th>\n",
       "      <th>count</th>\n",
       "      <th>mean</th>\n",
       "      <th>std</th>\n",
       "      <th>min</th>\n",
       "      <th>25%</th>\n",
       "      <th>50%</th>\n",
       "      <th>75%</th>\n",
       "      <th>max</th>\n",
       "    </tr>\n",
       "  </thead>\n",
       "  <tbody>\n",
       "    <tr>\n",
       "      <th>age</th>\n",
       "      <td>303.0</td>\n",
       "      <td>54.366337</td>\n",
       "      <td>9.082101</td>\n",
       "      <td>29.0</td>\n",
       "      <td>47.5</td>\n",
       "      <td>55.0</td>\n",
       "      <td>61.0</td>\n",
       "      <td>77.0</td>\n",
       "    </tr>\n",
       "    <tr>\n",
       "      <th>trestbps</th>\n",
       "      <td>303.0</td>\n",
       "      <td>131.623762</td>\n",
       "      <td>17.538143</td>\n",
       "      <td>94.0</td>\n",
       "      <td>120.0</td>\n",
       "      <td>130.0</td>\n",
       "      <td>140.0</td>\n",
       "      <td>200.0</td>\n",
       "    </tr>\n",
       "    <tr>\n",
       "      <th>chol</th>\n",
       "      <td>303.0</td>\n",
       "      <td>246.264026</td>\n",
       "      <td>51.830751</td>\n",
       "      <td>126.0</td>\n",
       "      <td>211.0</td>\n",
       "      <td>240.0</td>\n",
       "      <td>274.5</td>\n",
       "      <td>564.0</td>\n",
       "    </tr>\n",
       "    <tr>\n",
       "      <th>thalach</th>\n",
       "      <td>303.0</td>\n",
       "      <td>149.646865</td>\n",
       "      <td>22.905161</td>\n",
       "      <td>71.0</td>\n",
       "      <td>133.5</td>\n",
       "      <td>153.0</td>\n",
       "      <td>166.0</td>\n",
       "      <td>202.0</td>\n",
       "    </tr>\n",
       "    <tr>\n",
       "      <th>oldpeak</th>\n",
       "      <td>303.0</td>\n",
       "      <td>1.039604</td>\n",
       "      <td>1.161075</td>\n",
       "      <td>0.0</td>\n",
       "      <td>0.0</td>\n",
       "      <td>0.8</td>\n",
       "      <td>1.6</td>\n",
       "      <td>6.2</td>\n",
       "    </tr>\n",
       "  </tbody>\n",
       "</table>\n",
       "</div>"
      ],
      "text/plain": [
       "          count        mean        std    min    25%    50%    75%    max\n",
       "age       303.0   54.366337   9.082101   29.0   47.5   55.0   61.0   77.0\n",
       "trestbps  303.0  131.623762  17.538143   94.0  120.0  130.0  140.0  200.0\n",
       "chol      303.0  246.264026  51.830751  126.0  211.0  240.0  274.5  564.0\n",
       "thalach   303.0  149.646865  22.905161   71.0  133.5  153.0  166.0  202.0\n",
       "oldpeak   303.0    1.039604   1.161075    0.0    0.0    0.8    1.6    6.2"
      ]
     },
     "execution_count": 6,
     "metadata": {},
     "output_type": "execute_result"
    }
   ],
   "source": [
    "# Selecting all the numerical columns \"age\", \"trestbps\", \"chol\", \"thalach\", and \"oldpeak\" from the dataframe\n",
    "df_selected = df[[\"age\", \"trestbps\", \"chol\", \"thalach\", \"oldpeak\"]]\n",
    "# Getting descriptive statistics for the selected columns\n",
    "df_selected.describe().T"
   ]
  },
  {
   "cell_type": "code",
   "execution_count": 7,
   "id": "e9df86de",
   "metadata": {},
   "outputs": [
    {
     "data": {
      "image/png": "[encoded data removed]",
      "text/plain": [
       "<Figure size 640x480 with 2 Axes>"
      ]
     },
     "metadata": {},
     "output_type": "display_data"
    }
   ],
   "source": [
    "# Calculate the correlation matrix for every numerical column of the DataFrame 'df'\n",
    "corr = df[[\"age\", \"trestbps\", \"chol\", \"thalach\", \"oldpeak\"]].corr()\n",
    "# Plot a heatmap of the correlation matrix with annotations and the 'coolwarm' color map\n",
    "sns.heatmap(corr, annot=True, cmap='coolwarm')\n",
    "# Show the plot\n",
    "plt.show()"
   ]
  },
  {
   "cell_type": "markdown",
   "id": "f1b16632",
   "metadata": {},
   "source": [
    "# Data Visualisation"
   ]
  },
  {
   "cell_type": "markdown",
   "id": "34889d3e",
   "metadata": {},
   "source": [
    "Target based on sex"
   ]
  },
  {
   "cell_type": "code",
   "execution_count": 8,
   "id": "3500d0e5",
   "metadata": {
    "scrolled": false
   },
   "outputs": [
    {
     "data": {
      "image/png": "[encoded data removed]",
      "text/plain": [
       "<Figure size 800x500 with 1 Axes>"
      ]
     },
     "metadata": {},
     "output_type": "display_data"
    }
   ],
   "source": [
    "# Creating labels for gender (0: Female, 1: Male)\n",
    "label_gender = [0, 1]\n",
    "# Creating labels for gender (Female, Male)\n",
    "label_gender2 = ['Female', 'Male']\n",
    "# Plotting a bar chart to show the distribution of heart disease based on gender\n",
    "pd.crosstab(df.sex, df.target).plot(kind='bar', figsize=(8, 5))\n",
    "# Adding a title to the plot\n",
    "plt.title('Heart Disease Distribution based on Gender')\n",
    "# Adding a label to the x-axis\n",
    "plt.xlabel('Gender (Sex)')\n",
    "# Adding a label to the y-axis\n",
    "plt.ylabel('Total')\n",
    "# Setting the x-tick labels\n",
    "plt.xticks(label_gender, label_gender2, rotation=0)\n",
    "# Displaying the plot\n",
    "plt.show()"
   ]
  },
  {
   "cell_type": "markdown",
   "id": "4209ff2d",
   "metadata": {},
   "source": [
    "Target based on Chest Pain Type"
   ]
  },
  {
   "cell_type": "code",
   "execution_count": 9,
   "id": "23c8c46d",
   "metadata": {},
   "outputs": [
    {
     "data": {
      "image/png": "[encoded data removed]",
      "text/plain": [
       "<Figure size 800x500 with 1 Axes>"
      ]
     },
     "metadata": {},
     "output_type": "display_data"
    }
   ],
   "source": [
    "# Plotting a bar chart to show the distribution of heart disease based on chest pain type\n",
    "pd.crosstab(df.cp, df.target).plot(kind='bar', figsize=(8, 5))\n",
    "# Adding a title to the plot\n",
    "plt.title('Heart Disease Distribution based on Chest Pain Type')\n",
    "# Adding a label to the x-axis\n",
    "plt.xlabel('Chest Pain Type')\n",
    "# Adding a label to the y-axis\n",
    "plt.ylabel('Total')\n",
    "# Setting the x-tick labels to be horizontal\n",
    "plt.xticks(rotation=0)\n",
    "# Displaying the plot\n",
    "plt.show()"
   ]
  },
  {
   "cell_type": "markdown",
   "id": "ffe4c3c2",
   "metadata": {},
   "source": [
    "Target based on fbs (Fasting Blood Sugar)"
   ]
  },
  {
   "cell_type": "code",
   "execution_count": 10,
   "id": "f425fc28",
   "metadata": {},
   "outputs": [
    {
     "data": {
      "image/png": "[encoded data removed]",
      "text/plain": [
       "<Figure size 800x500 with 1 Axes>"
      ]
     },
     "metadata": {},
     "output_type": "display_data"
    }
   ],
   "source": [
    "# Creating labels for fasting blood sugar (0: < 120 mg/dl, 1: > 120 mg/dl)\n",
    "label_fbs = [0, 1]\n",
    "# Creating labels for fasting blood sugar (< 120 mg/dl, > 120 mg/dl)\n",
    "label_fbs2 = ['< 120 mg/dl', '> 120 mg/dl']\n",
    "# Plotting a bar chart to show the distribution of heart disease based on fasting blood sugar\n",
    "pd.crosstab(df.fbs, df.target).plot(kind='bar', figsize=(8, 5))\n",
    "# Adding a title to the plot\n",
    "plt.title('Heart Disease Distribution based on Fasting Blood Sugar')\n",
    "# Adding a label to the x-axis\n",
    "plt.xlabel('Fasting Blood Sugar')\n",
    "# Adding a label to the y-axis\n",
    "plt.ylabel('Count')\n",
    "# Setting the x-tick labels\n",
    "plt.xticks(label_fbs, label_fbs2, rotation=0)\n",
    "# Displaying the plot\n",
    "plt.show()"
   ]
  },
  {
   "cell_type": "markdown",
   "id": "9854b9ad",
   "metadata": {},
   "source": [
    "Target based on restecg (resting electrocardiographic results)"
   ]
  },
  {
   "cell_type": "code",
   "execution_count": 11,
   "id": "13dcecec",
   "metadata": {},
   "outputs": [
    {
     "data": {
      "image/png": "[encoded data removed]",
      "text/plain": [
       "<Figure size 800x500 with 1 Axes>"
      ]
     },
     "metadata": {},
     "output_type": "display_data"
    }
   ],
   "source": [
    "# Plotting a bar chart to show the distribution of heart disease based on resting electrocardiographic results\n",
    "pd.crosstab(df.restecg, df.target).plot(kind='bar', figsize=(8, 5))\n",
    "# Adding a title to the plot\n",
    "plt.title('Heart Disease Distribution based on restecg (resting electrocardiographic results)')\n",
    "# Adding a label to the x-axis\n",
    "plt.xlabel('(Resting Electrocardiographic Results')\n",
    "# Adding a label to the y-axis\n",
    "plt.ylabel('Count')\n",
    "# Setting the x-tick labels to be horizontal\n",
    "plt.xticks(rotation=0)\n",
    "# Displaying the plot\n",
    "plt.show()"
   ]
  },
  {
   "cell_type": "markdown",
   "id": "c4d68523",
   "metadata": {},
   "source": [
    "Target based on exang (exercise induced angina)"
   ]
  },
  {
   "cell_type": "code",
   "execution_count": 12,
   "id": "8e127310",
   "metadata": {},
   "outputs": [
    {
     "data": {
      "image/png": "[encoded data removed]",
      "text/plain": [
       "<Figure size 800x500 with 1 Axes>"
      ]
     },
     "metadata": {},
     "output_type": "display_data"
    }
   ],
   "source": [
    "# Plotting a bar chart to show the distribution of heart disease based on exercise induced angina\n",
    "pd.crosstab(df.exang, df.target).plot(kind='bar', figsize=(8, 5))\n",
    "# Adding a title to the plot\n",
    "plt.title('Heart Disease Distribution based on exang (exercise induced angina)')\n",
    "# Adding a label to the x-axis\n",
    "plt.xlabel('Exercise Induced Angina')\n",
    "# Adding a label to the y-axis\n",
    "plt.ylabel('Count')\n",
    "# Setting the x-tick labels\n",
    "label_exang = [0,1]\n",
    "label_exang2 = [\"no\", \"yes\"]\n",
    "plt.xticks(label_exang, label_exang2, rotation=0)\n",
    "# Displaying the plot\n",
    "plt.show()"
   ]
  },
  {
   "cell_type": "markdown",
   "id": "1d542adf",
   "metadata": {},
   "source": [
    "Target based on slope (slope of the peak exercise ST segment)"
   ]
  },
  {
   "cell_type": "code",
   "execution_count": 13,
   "id": "4667ee0f",
   "metadata": {},
   "outputs": [
    {
     "data": {
      "image/png": "[encoded data removed]",
      "text/plain": [
       "<Figure size 800x500 with 1 Axes>"
      ]
     },
     "metadata": {},
     "output_type": "display_data"
    }
   ],
   "source": [
    "# Plotting a bar chart to show the distribution of heart disease based on slope\n",
    "pd.crosstab(df.slope, df.target).plot(kind='bar', figsize=(8, 5))\n",
    "# Adding a title to the plot\n",
    "plt.title('Heart Disease Distribution based on slope (slope of the peak exercise ST segment)')\n",
    "# Adding a label to the x-axis\n",
    "plt.xlabel('slope of the peak exercise ST segment')\n",
    "# Adding a label to the y-axis\n",
    "plt.ylabel('Count')\n",
    "# Setting the x-tick rotation as 0\n",
    "plt.xticks(rotation=0)\n",
    "plt.show()"
   ]
  },
  {
   "cell_type": "markdown",
   "id": "e7df566c",
   "metadata": {},
   "source": [
    "Target based on on number of major vessels (0-4) colored by flourosopy"
   ]
  },
  {
   "cell_type": "code",
   "execution_count": 14,
   "id": "0f3166af",
   "metadata": {},
   "outputs": [
    {
     "data": {
      "image/png": "[encoded data removed]",
      "text/plain": [
       "<Figure size 800x500 with 1 Axes>"
      ]
     },
     "metadata": {},
     "output_type": "display_data"
    }
   ],
   "source": [
    "# Plotting a bar chart to show the distribution of heart disease based on number of major vessels (0-4) colored by flourosopy\n",
    "pd.crosstab(df.ca, df.target).plot(kind='bar', figsize=(8, 5))\n",
    "# Adding a title to the plot\n",
    "plt.title('Heart Disease Distribution based on ca (number of major vessels (0-4) colored by flourosopy)')\n",
    "# Adding a label to the x-axis\n",
    "plt.xlabel('number of major vessels (0-4) colored by flourosopy')\n",
    "# Adding a label to the y-axis\n",
    "plt.ylabel('Count')\n",
    "# Setting the x-tick labels to be horizontal\n",
    "plt.xticks(rotation=0)\n",
    "# Show the plot\n",
    "plt.show()"
   ]
  },
  {
   "cell_type": "markdown",
   "id": "8d0c7acb",
   "metadata": {},
   "source": [
    "Target based on Thallium"
   ]
  },
  {
   "cell_type": "code",
   "execution_count": 15,
   "id": "8b1d5a88",
   "metadata": {},
   "outputs": [
    {
     "data": {
      "image/png": "[encoded data removed]",
      "text/plain": [
       "<Figure size 800x500 with 1 Axes>"
      ]
     },
     "metadata": {},
     "output_type": "display_data"
    }
   ],
   "source": [
    "# Plotting a bar chart to show the distribution of heart disease based on Thallium\n",
    "pd.crosstab(df.thal, df.target).plot(kind='bar', figsize=(8, 5))\n",
    "# Set plot title and labels\n",
    "plt.title('Heart Disease Distribution based on thallium')\n",
    "# Adding a label to the x-axis\n",
    "plt.xlabel('Thallium')\n",
    "# Adding a label to the y-axis\n",
    "plt.ylabel('Count')\n",
    "# Setting the x-tick labels to be horizontal\n",
    "plt.xticks(rotation=0)\n",
    "# Show the plot\n",
    "plt.show()"
   ]
  },
  {
   "cell_type": "markdown",
   "id": "5f6089e5",
   "metadata": {},
   "source": [
    "# Splitting Our Dataset into Training and Testing set"
   ]
  },
  {
   "cell_type": "markdown",
   "id": "ab8d8c63",
   "metadata": {},
   "source": [
    "In this section of our code, first we will be scaling our features by standardizing our feature data and after scaling the data we will use the train_test_split method to split our data into training and testing set. We do this to evaluate our model using unseen data"
   ]
  },
  {
   "cell_type": "markdown",
   "id": "d328754b",
   "metadata": {},
   "source": [
    "Defining a function to scale our features"
   ]
  },
  {
   "cell_type": "code",
   "execution_count": 16,
   "id": "15abd825",
   "metadata": {},
   "outputs": [],
   "source": [
    "def standard_scaler(X):\n",
    "    # Calculate the mean of the input array, X, along the columns (axis=0)\n",
    "    mean = np.mean(X, axis=0)\n",
    "    # Calculate the standard deviation of the input array, X, along the columns (axis=0)\n",
    "    scale = np.std(X, axis=0)\n",
    "    # Scale the input array by subtracting the mean and dividing by the standard deviation\n",
    "    X_scaled = (X - mean) / scale\n",
    "    # Return the scaled array\n",
    "    return X_scaled"
   ]
  },
  {
   "cell_type": "code",
   "execution_count": 17,
   "id": "230452a2",
   "metadata": {},
   "outputs": [
    {
     "data": {
      "text/html": [
       "<div>\n",
       "<style scoped>\n",
       "    .dataframe tbody tr th:only-of-type {\n",
       "        vertical-align: middle;\n",
       "    }\n",
       "\n",
       "    .dataframe tbody tr th {\n",
       "        vertical-align: top;\n",
       "    }\n",
       "\n",
       "    .dataframe thead th {\n",
       "        text-align: right;\n",
       "    }\n",
       "</style>\n",
       "<table border=\"1\" class=\"dataframe\">\n",
       "  <thead>\n",
       "    <tr style=\"text-align: right;\">\n",
       "      <th></th>\n",
       "      <th>age</th>\n",
       "      <th>sex</th>\n",
       "      <th>cp</th>\n",
       "      <th>trestbps</th>\n",
       "      <th>chol</th>\n",
       "      <th>fbs</th>\n",
       "      <th>restecg</th>\n",
       "      <th>thalach</th>\n",
       "      <th>exang</th>\n",
       "      <th>oldpeak</th>\n",
       "      <th>slope</th>\n",
       "      <th>ca</th>\n",
       "      <th>thal</th>\n",
       "      <th>target</th>\n",
       "    </tr>\n",
       "  </thead>\n",
       "  <tbody>\n",
       "    <tr>\n",
       "      <th>0</th>\n",
       "      <td>0.952197</td>\n",
       "      <td>0.681005</td>\n",
       "      <td>1.973123</td>\n",
       "      <td>0.763956</td>\n",
       "      <td>-0.256334</td>\n",
       "      <td>2.394438</td>\n",
       "      <td>-1.005832</td>\n",
       "      <td>0.015443</td>\n",
       "      <td>-0.696631</td>\n",
       "      <td>1.087338</td>\n",
       "      <td>-2.274579</td>\n",
       "      <td>-0.714429</td>\n",
       "      <td>-2.148873</td>\n",
       "      <td>1</td>\n",
       "    </tr>\n",
       "    <tr>\n",
       "      <th>1</th>\n",
       "      <td>-1.915313</td>\n",
       "      <td>0.681005</td>\n",
       "      <td>1.002577</td>\n",
       "      <td>-0.092738</td>\n",
       "      <td>0.072199</td>\n",
       "      <td>-0.417635</td>\n",
       "      <td>0.898962</td>\n",
       "      <td>1.633471</td>\n",
       "      <td>-0.696631</td>\n",
       "      <td>2.122573</td>\n",
       "      <td>-2.274579</td>\n",
       "      <td>-0.714429</td>\n",
       "      <td>-0.512922</td>\n",
       "      <td>1</td>\n",
       "    </tr>\n",
       "    <tr>\n",
       "      <th>2</th>\n",
       "      <td>-1.474158</td>\n",
       "      <td>-1.468418</td>\n",
       "      <td>0.032031</td>\n",
       "      <td>-0.092738</td>\n",
       "      <td>-0.816773</td>\n",
       "      <td>-0.417635</td>\n",
       "      <td>-1.005832</td>\n",
       "      <td>0.977514</td>\n",
       "      <td>-0.696631</td>\n",
       "      <td>0.310912</td>\n",
       "      <td>0.976352</td>\n",
       "      <td>-0.714429</td>\n",
       "      <td>-0.512922</td>\n",
       "      <td>1</td>\n",
       "    </tr>\n",
       "    <tr>\n",
       "      <th>3</th>\n",
       "      <td>0.180175</td>\n",
       "      <td>0.681005</td>\n",
       "      <td>0.032031</td>\n",
       "      <td>-0.663867</td>\n",
       "      <td>-0.198357</td>\n",
       "      <td>-0.417635</td>\n",
       "      <td>0.898962</td>\n",
       "      <td>1.239897</td>\n",
       "      <td>-0.696631</td>\n",
       "      <td>-0.206705</td>\n",
       "      <td>0.976352</td>\n",
       "      <td>-0.714429</td>\n",
       "      <td>-0.512922</td>\n",
       "      <td>1</td>\n",
       "    </tr>\n",
       "    <tr>\n",
       "      <th>4</th>\n",
       "      <td>0.290464</td>\n",
       "      <td>-1.468418</td>\n",
       "      <td>-0.938515</td>\n",
       "      <td>-0.663867</td>\n",
       "      <td>2.082050</td>\n",
       "      <td>-0.417635</td>\n",
       "      <td>0.898962</td>\n",
       "      <td>0.583939</td>\n",
       "      <td>1.435481</td>\n",
       "      <td>-0.379244</td>\n",
       "      <td>0.976352</td>\n",
       "      <td>-0.714429</td>\n",
       "      <td>-0.512922</td>\n",
       "      <td>1</td>\n",
       "    </tr>\n",
       "    <tr>\n",
       "      <th>...</th>\n",
       "      <td>...</td>\n",
       "      <td>...</td>\n",
       "      <td>...</td>\n",
       "      <td>...</td>\n",
       "      <td>...</td>\n",
       "      <td>...</td>\n",
       "      <td>...</td>\n",
       "      <td>...</td>\n",
       "      <td>...</td>\n",
       "      <td>...</td>\n",
       "      <td>...</td>\n",
       "      <td>...</td>\n",
       "      <td>...</td>\n",
       "      <td>...</td>\n",
       "    </tr>\n",
       "    <tr>\n",
       "      <th>298</th>\n",
       "      <td>0.290464</td>\n",
       "      <td>-1.468418</td>\n",
       "      <td>-0.938515</td>\n",
       "      <td>0.478391</td>\n",
       "      <td>-0.101730</td>\n",
       "      <td>-0.417635</td>\n",
       "      <td>0.898962</td>\n",
       "      <td>-1.165281</td>\n",
       "      <td>1.435481</td>\n",
       "      <td>-0.724323</td>\n",
       "      <td>-0.649113</td>\n",
       "      <td>-0.714429</td>\n",
       "      <td>1.123029</td>\n",
       "      <td>0</td>\n",
       "    </tr>\n",
       "    <tr>\n",
       "      <th>299</th>\n",
       "      <td>-1.033002</td>\n",
       "      <td>0.681005</td>\n",
       "      <td>1.973123</td>\n",
       "      <td>-1.234996</td>\n",
       "      <td>0.342756</td>\n",
       "      <td>-0.417635</td>\n",
       "      <td>0.898962</td>\n",
       "      <td>-0.771706</td>\n",
       "      <td>-0.696631</td>\n",
       "      <td>0.138373</td>\n",
       "      <td>-0.649113</td>\n",
       "      <td>-0.714429</td>\n",
       "      <td>1.123029</td>\n",
       "      <td>0</td>\n",
       "    </tr>\n",
       "    <tr>\n",
       "      <th>300</th>\n",
       "      <td>1.503641</td>\n",
       "      <td>0.681005</td>\n",
       "      <td>-0.938515</td>\n",
       "      <td>0.706843</td>\n",
       "      <td>-1.029353</td>\n",
       "      <td>2.394438</td>\n",
       "      <td>0.898962</td>\n",
       "      <td>-0.378132</td>\n",
       "      <td>-0.696631</td>\n",
       "      <td>2.036303</td>\n",
       "      <td>-0.649113</td>\n",
       "      <td>1.244593</td>\n",
       "      <td>1.123029</td>\n",
       "      <td>0</td>\n",
       "    </tr>\n",
       "    <tr>\n",
       "      <th>301</th>\n",
       "      <td>0.290464</td>\n",
       "      <td>0.681005</td>\n",
       "      <td>-0.938515</td>\n",
       "      <td>-0.092738</td>\n",
       "      <td>-2.227533</td>\n",
       "      <td>-0.417635</td>\n",
       "      <td>0.898962</td>\n",
       "      <td>-1.515125</td>\n",
       "      <td>1.435481</td>\n",
       "      <td>0.138373</td>\n",
       "      <td>-0.649113</td>\n",
       "      <td>0.265082</td>\n",
       "      <td>1.123029</td>\n",
       "      <td>0</td>\n",
       "    </tr>\n",
       "    <tr>\n",
       "      <th>302</th>\n",
       "      <td>0.290464</td>\n",
       "      <td>-1.468418</td>\n",
       "      <td>0.032031</td>\n",
       "      <td>-0.092738</td>\n",
       "      <td>-0.198357</td>\n",
       "      <td>-0.417635</td>\n",
       "      <td>-1.005832</td>\n",
       "      <td>1.064975</td>\n",
       "      <td>-0.696631</td>\n",
       "      <td>-0.896862</td>\n",
       "      <td>-0.649113</td>\n",
       "      <td>0.265082</td>\n",
       "      <td>-0.512922</td>\n",
       "      <td>0</td>\n",
       "    </tr>\n",
       "  </tbody>\n",
       "</table>\n",
       "<p>303 rows × 14 columns</p>\n",
       "</div>"
      ],
      "text/plain": [
       "          age       sex        cp  trestbps      chol       fbs   restecg  \\\n",
       "0    0.952197  0.681005  1.973123  0.763956 -0.256334  2.394438 -1.005832   \n",
       "1   -1.915313  0.681005  1.002577 -0.092738  0.072199 -0.417635  0.898962   \n",
       "2   -1.474158 -1.468418  0.032031 -0.092738 -0.816773 -0.417635 -1.005832   \n",
       "3    0.180175  0.681005  0.032031 -0.663867 -0.198357 -0.417635  0.898962   \n",
       "4    0.290464 -1.468418 -0.938515 -0.663867  2.082050 -0.417635  0.898962   \n",
       "..        ...       ...       ...       ...       ...       ...       ...   \n",
       "298  0.290464 -1.468418 -0.938515  0.478391 -0.101730 -0.417635  0.898962   \n",
       "299 -1.033002  0.681005  1.973123 -1.234996  0.342756 -0.417635  0.898962   \n",
       "300  1.503641  0.681005 -0.938515  0.706843 -1.029353  2.394438  0.898962   \n",
       "301  0.290464  0.681005 -0.938515 -0.092738 -2.227533 -0.417635  0.898962   \n",
       "302  0.290464 -1.468418  0.032031 -0.092738 -0.198357 -0.417635 -1.005832   \n",
       "\n",
       "      thalach     exang   oldpeak     slope        ca      thal  target  \n",
       "0    0.015443 -0.696631  1.087338 -2.274579 -0.714429 -2.148873       1  \n",
       "1    1.633471 -0.696631  2.122573 -2.274579 -0.714429 -0.512922       1  \n",
       "2    0.977514 -0.696631  0.310912  0.976352 -0.714429 -0.512922       1  \n",
       "3    1.239897 -0.696631 -0.206705  0.976352 -0.714429 -0.512922       1  \n",
       "4    0.583939  1.435481 -0.379244  0.976352 -0.714429 -0.512922       1  \n",
       "..        ...       ...       ...       ...       ...       ...     ...  \n",
       "298 -1.165281  1.435481 -0.724323 -0.649113 -0.714429  1.123029       0  \n",
       "299 -0.771706 -0.696631  0.138373 -0.649113 -0.714429  1.123029       0  \n",
       "300 -0.378132 -0.696631  2.036303 -0.649113  1.244593  1.123029       0  \n",
       "301 -1.515125  1.435481  0.138373 -0.649113  0.265082  1.123029       0  \n",
       "302  1.064975 -0.696631 -0.896862 -0.649113  0.265082 -0.512922       0  \n",
       "\n",
       "[303 rows x 14 columns]"
      ]
     },
     "execution_count": 17,
     "metadata": {},
     "output_type": "execute_result"
    }
   ],
   "source": [
    "# Drop the \"target\" column from the DataFrame \"df\"\n",
    "scaled_features = df.drop(columns=\"target\")\n",
    "# Scale the features using the \"standard_scaler\" function\n",
    "scaled_features = standard_scaler(scaled_features)\n",
    "# Create a new DataFrame \"scaled_df\" using the scaled features\n",
    "scaled_df = pd.DataFrame(data=scaled_features, columns=scaled_features.columns)\n",
    "# Add the \"target\" column back to the scaled DataFrame\n",
    "scaled_df[\"target\"] = df[\"target\"]\n",
    "# Displaying the scaled DataFrame\n",
    "scaled_df"
   ]
  },
  {
   "cell_type": "code",
   "execution_count": 18,
   "id": "df853b29",
   "metadata": {},
   "outputs": [],
   "source": [
    "# Split the scaled_df dataframe into two separate variables: Train and Test\n",
    "Train, Test = tts(scaled_df, train_size = 0.7, random_state = 5)"
   ]
  },
  {
   "cell_type": "markdown",
   "id": "0d8ccfd9",
   "metadata": {},
   "source": [
    "Preparing the training data for our machine learning model. The variables Xtrain and Ytrain are assigned as features and target columns, respectively. "
   ]
  },
  {
   "cell_type": "code",
   "execution_count": 19,
   "id": "6efb31dc",
   "metadata": {},
   "outputs": [
    {
     "name": "stdout",
     "output_type": "stream",
     "text": [
      "Xtrain size : (212, 13)\n",
      "Ytrain size : (212,)\n"
     ]
    }
   ],
   "source": [
    "Xtrain = Train[[\"age\", \"sex\", \"cp\", \"trestbps\", \"chol\", \"fbs\", \"restecg\", \"thalach\", \"exang\", \"oldpeak\", \"slope\", \"ca\", \"thal\"]]\n",
    "Ytrain = Train.target\n",
    "print(f\"Xtrain size : {Xtrain.shape}\")\n",
    "print(f\"Ytrain size : {Ytrain.shape}\")"
   ]
  },
  {
   "cell_type": "markdown",
   "id": "8b4a7897",
   "metadata": {},
   "source": [
    "Preparing the testing data for our machine learning model. The variables Xtest and Ytest are assigned as features and target columns, respectively."
   ]
  },
  {
   "cell_type": "code",
   "execution_count": 20,
   "id": "38a4d9bf",
   "metadata": {},
   "outputs": [
    {
     "name": "stdout",
     "output_type": "stream",
     "text": [
      "Xtest size : (91, 13)\n",
      "Ytest size : (91,)\n"
     ]
    }
   ],
   "source": [
    "Xtest = Test[[\"age\", \"sex\", \"cp\", \"trestbps\", \"chol\", \"fbs\", \"restecg\", \"thalach\", \"exang\", \"oldpeak\", \"slope\", \"ca\", \"thal\"]]\n",
    "Ytest = Test.target\n",
    "print(f\"Xtest size : {Xtest.shape}\")\n",
    "print(f\"Ytest size : {Ytest.shape}\")"
   ]
  },
  {
   "cell_type": "markdown",
   "id": "b354a35f",
   "metadata": {},
   "source": [
    "# Building Primary Model[Logistic Regression]:"
   ]
  },
  {
   "cell_type": "markdown",
   "id": "c5da7fbe",
   "metadata": {},
   "source": [
    "In this section, we will finally build our model using the identified features and target from our training set using Logistic Regression from scratch."
   ]
  },
  {
   "cell_type": "code",
   "execution_count": 21,
   "id": "3696b4f2",
   "metadata": {},
   "outputs": [],
   "source": [
    "m, n = Xtrain.shape # m : number of rows, n : number of features\n",
    "initial_weights = np.zeros(n) # initializing an array of size as 0s\n",
    "initial_bias = 0 # initializing bias as 0"
   ]
  },
  {
   "cell_type": "markdown",
   "id": "d6c83ef0",
   "metadata": {},
   "source": [
    "Defining a sigmoid_function() that takes three arguments: x, w, and b. The x argument is a matrix of feature values, with each row representing a sample and each column representing a feature. The w argument is a vector of weights that corresponds to the features in x. The b argument is a scalar bias term. The function calculates the dot product of x and w, adds the bias b, and then calculates the sigmoid function of this result and returns it. "
   ]
  },
  {
   "cell_type": "code",
   "execution_count": 22,
   "id": "481540fa",
   "metadata": {},
   "outputs": [],
   "source": [
    "def sigmoid_function(x, w, b):\n",
    "    z = x.dot(w) + b\n",
    "    return np.where(1/(1 + np.exp(-z))>0.5, 1, 0)"
   ]
  },
  {
   "cell_type": "markdown",
   "id": "0afecc07",
   "metadata": {},
   "source": [
    "Defining a function Log_Loss() taht calculates and returns the logistic loss or binary cross-entropy loss of a logistic regression model with given features(x), target(y), weights(w), and bias(b). "
   ]
  },
  {
   "cell_type": "code",
   "execution_count": 23,
   "id": "7f0a85b2",
   "metadata": {},
   "outputs": [],
   "source": [
    "def Log_Loss(x,y,w,b):\n",
    "    ypred = sigmoid_function(x,w,b)\n",
    "    epsilon = 1e-15\n",
    "    loss = -np.mean(y * np.log(ypred + epsilon) + (1 - y) * np.log(1 - ypred + epsilon))\n",
    "    return loss"
   ]
  },
  {
   "cell_type": "markdown",
   "id": "d56f6a76",
   "metadata": {},
   "source": [
    "Calculating and printing the logistic loss for our logistic regression model with the initial weights and bias, which are both set to zero. The Log_Loss function is called with the feature matrix Xtrain, the target vector Ytrain, the initial weights and the initial bias as arguments. The result of the function, which represents the initial logistic loss, is stored in the variable initial_loss and printed."
   ]
  },
  {
   "cell_type": "code",
   "execution_count": 24,
   "id": "395ec10c",
   "metadata": {},
   "outputs": [
    {
     "name": "stdout",
     "output_type": "stream",
     "text": [
      "Initial_Log_Loss : 19.061494519832785\n"
     ]
    }
   ],
   "source": [
    "initial_loss = Log_Loss(Xtrain, Ytrain, initial_weights, initial_bias)\n",
    "print(f\"Initial_Log_Loss : {initial_loss}\")"
   ]
  },
  {
   "cell_type": "markdown",
   "id": "256b5fe7",
   "metadata": {},
   "source": [
    "Defining a class \"Logistic_Regression\" that implements logistic regression algorithm for binary classification."
   ]
  },
  {
   "cell_type": "code",
   "execution_count": 25,
   "id": "088c00f0",
   "metadata": {},
   "outputs": [],
   "source": [
    "class Logistic_Regression:\n",
    "    \n",
    "    # Initialize the model with learning rate (alpha) and number of iterations\n",
    "    def __init__(self, alpha = 0.001, iterations = 10000):\n",
    "        self.alpha = alpha # learning rate\n",
    "        self.iterations = iterations # number of iterations\n",
    "        \n",
    "    # Fit the model to training data\n",
    "    def fit(self, X,Y):\n",
    "        self.X = X # feature matrix\n",
    "        self.Y = Y # target vector\n",
    "        self.m, self.n = X.shape # number of samples, number of features\n",
    "        self.w = np.zeros(self.n) # initial weights\n",
    "        self.b = 0 # initial bias\n",
    "        # update the weights and bias for the specified number of iterations\n",
    "        for i in range(self.iterations):\n",
    "            self.update_parameters()\n",
    "        return self.w, self.b\n",
    "              \n",
    "    # Update the parameters (weights and bias) based on the gradient\n",
    "    def update_parameters(self):\n",
    "        # Calculate predicted target values\n",
    "        Y_pred = 1 / (1 + np.exp(-(self.X.dot(self.w) + self.b)))\n",
    "        # Update the weights using gradient descent\n",
    "        dw = np.dot(self.X.T, (Y_pred - self.Y))/self.m\n",
    "        self.w = self.w - self.alpha * dw\n",
    "        # Update the bias using gradient descent\n",
    "        db = np.sum(Y_pred - self.Y)/self.m\n",
    "        self.b = self.b - self.alpha * db\n",
    "\n",
    "    # Predict the target values for a given set of features\n",
    "    def predict(self, X):\n",
    "        # Calculate predicted target values\n",
    "        Y_pred = 1 / (1 + np.exp(-(X.dot(self.w) + self.b)))\n",
    "        # Convert predicted target values to binary classification\n",
    "        Y_pred = np.where(Y_pred > 0.5, 1, 0)\n",
    "        return Y_pred\n"
   ]
  },
  {
   "cell_type": "markdown",
   "id": "add9ae7d",
   "metadata": {},
   "source": [
    "creating an object of class Logistic_Regression and naming it model"
   ]
  },
  {
   "cell_type": "code",
   "execution_count": 26,
   "id": "39ebb926",
   "metadata": {},
   "outputs": [],
   "source": [
    "model = Logistic_Regression()"
   ]
  },
  {
   "cell_type": "markdown",
   "id": "a6782983",
   "metadata": {},
   "source": [
    "The \"fit\" method is used to fit our Logistic regression model to the training data, represented by \"Xtrain\" and \"Ytrain\". The method returns two values, \"updated_weights\" and \"updated_bias\", which are the updated values for the model's weights and bias, respectively. "
   ]
  },
  {
   "cell_type": "code",
   "execution_count": 27,
   "id": "a1919061",
   "metadata": {},
   "outputs": [
    {
     "name": "stdout",
     "output_type": "stream",
     "text": [
      "updated_weights : [-0.08106075 -0.52754907  0.52733677 -0.19517291 -0.15788867  0.05608092\n",
      "  0.26807148  0.42988105 -0.45499017 -0.37440588  0.22782795 -0.52615111\n",
      " -0.47835107]\n",
      "updated_bias : 0.10018755933127348\n"
     ]
    }
   ],
   "source": [
    "updated_weights, updated_bias = model.fit(Xtrain, Ytrain)\n",
    "print(f\"updated_weights : {updated_weights}\")\n",
    "print(f\"updated_bias : {updated_bias}\")"
   ]
  },
  {
   "cell_type": "markdown",
   "id": "66c30789",
   "metadata": {},
   "source": [
    "The cost is computed using the Log_Loss() which takes in four parameters - Xtrain, Ytrain, updated_weights and updated_bias. The function returns the log loss of the model with the given updated parameters. The computed loss is then printed with our initial loss for comparison"
   ]
  },
  {
   "cell_type": "code",
   "execution_count": 28,
   "id": "27a42522",
   "metadata": {},
   "outputs": [
    {
     "name": "stdout",
     "output_type": "stream",
     "text": [
      "Initial_Log_Loss : 19.061494519832785\n",
      "optimized_Log_Loss : 6.679669019770461\n"
     ]
    }
   ],
   "source": [
    "optimized_loss = Log_Loss(Xtrain, Ytrain, updated_weights, updated_bias)\n",
    "print(f\"Initial_Log_Loss : {initial_loss}\")\n",
    "print(f\"optimized_Log_Loss : {optimized_loss}\")"
   ]
  },
  {
   "cell_type": "markdown",
   "id": "58011167",
   "metadata": {},
   "source": [
    "# Model Evaluation"
   ]
  },
  {
   "cell_type": "markdown",
   "id": "0df89ece",
   "metadata": {},
   "source": [
    "Accuracy Score"
   ]
  },
  {
   "cell_type": "markdown",
   "id": "514e71fa",
   "metadata": {},
   "source": [
    "Defining function that calculates the accuracy of our classification model by taking in the values of True Positive (TP), True Negative (TN), False Positive (FP), and False Negative (FN)."
   ]
  },
  {
   "cell_type": "code",
   "execution_count": 29,
   "id": "7b2d6ebf",
   "metadata": {},
   "outputs": [],
   "source": [
    "def Accuracy(TP, TN, FP, FN):\n",
    "    return (TP + TN) / (TP + FP + FN + TN)"
   ]
  },
  {
   "cell_type": "markdown",
   "id": "4945623c",
   "metadata": {},
   "source": [
    "Precision"
   ]
  },
  {
   "cell_type": "markdown",
   "id": "640dcbfc",
   "metadata": {},
   "source": [
    "Defining function that calculates the precision of our classification model by taking in the values of True Positive (TP) and False Positive (FP)."
   ]
  },
  {
   "cell_type": "code",
   "execution_count": 30,
   "id": "9b0642e2",
   "metadata": {},
   "outputs": [],
   "source": [
    "def Precision(TP, FP):\n",
    "    return TP / (TP + FP)"
   ]
  },
  {
   "cell_type": "markdown",
   "id": "f7af2c94",
   "metadata": {},
   "source": [
    "Recall "
   ]
  },
  {
   "cell_type": "markdown",
   "id": "e7e4dce1",
   "metadata": {},
   "source": [
    "Defining function that calculates the Recall value of our classification model by taking in the values of True Positive (TP) and False Negative (FN)."
   ]
  },
  {
   "cell_type": "code",
   "execution_count": 31,
   "id": "f349eb86",
   "metadata": {},
   "outputs": [],
   "source": [
    "def Recall(TP, FN):\n",
    "    return TP / (TP + FN)"
   ]
  },
  {
   "cell_type": "markdown",
   "id": "45d0b247",
   "metadata": {},
   "source": [
    "Making predictions using our machine learning model on the test data set."
   ]
  },
  {
   "cell_type": "code",
   "execution_count": 32,
   "id": "343d9678",
   "metadata": {},
   "outputs": [],
   "source": [
    "Y_pred = model.predict(Xtest)"
   ]
  },
  {
   "cell_type": "markdown",
   "id": "12b8a7f0",
   "metadata": {},
   "source": [
    "Creating a dataframe to see how our model is predicting by comparing the predicting values with its true values"
   ]
  },
  {
   "cell_type": "code",
   "execution_count": 33,
   "id": "459f8547",
   "metadata": {},
   "outputs": [],
   "source": [
    "# Create an empty dataframe to store the comparison results\n",
    "comp_df = pd.DataFrame()\n",
    "# Add the predicted target values from the model's prediction on Xtest to the \"Predicted\" column of the dataframe\n",
    "comp_df[\"Predicted\"] = Y_pred\n",
    "# Add the actual target values from Ytest to the \"Actual\" column of the dataframe\n",
    "comp_df[\"Actual\"] = np.array(Ytest)"
   ]
  },
  {
   "cell_type": "code",
   "execution_count": 34,
   "id": "5dc285d6",
   "metadata": {},
   "outputs": [
    {
     "data": {
      "text/html": [
       "<div>\n",
       "<style scoped>\n",
       "    .dataframe tbody tr th:only-of-type {\n",
       "        vertical-align: middle;\n",
       "    }\n",
       "\n",
       "    .dataframe tbody tr th {\n",
       "        vertical-align: top;\n",
       "    }\n",
       "\n",
       "    .dataframe thead th {\n",
       "        text-align: right;\n",
       "    }\n",
       "</style>\n",
       "<table border=\"1\" class=\"dataframe\">\n",
       "  <thead>\n",
       "    <tr style=\"text-align: right;\">\n",
       "      <th></th>\n",
       "      <th>Predicted</th>\n",
       "      <th>Actual</th>\n",
       "    </tr>\n",
       "  </thead>\n",
       "  <tbody>\n",
       "    <tr>\n",
       "      <th>61</th>\n",
       "      <td>0</td>\n",
       "      <td>0</td>\n",
       "    </tr>\n",
       "    <tr>\n",
       "      <th>15</th>\n",
       "      <td>0</td>\n",
       "      <td>0</td>\n",
       "    </tr>\n",
       "    <tr>\n",
       "      <th>24</th>\n",
       "      <td>0</td>\n",
       "      <td>1</td>\n",
       "    </tr>\n",
       "    <tr>\n",
       "      <th>31</th>\n",
       "      <td>1</td>\n",
       "      <td>1</td>\n",
       "    </tr>\n",
       "    <tr>\n",
       "      <th>65</th>\n",
       "      <td>1</td>\n",
       "      <td>1</td>\n",
       "    </tr>\n",
       "    <tr>\n",
       "      <th>12</th>\n",
       "      <td>1</td>\n",
       "      <td>1</td>\n",
       "    </tr>\n",
       "    <tr>\n",
       "      <th>27</th>\n",
       "      <td>1</td>\n",
       "      <td>1</td>\n",
       "    </tr>\n",
       "    <tr>\n",
       "      <th>52</th>\n",
       "      <td>1</td>\n",
       "      <td>1</td>\n",
       "    </tr>\n",
       "    <tr>\n",
       "      <th>7</th>\n",
       "      <td>0</td>\n",
       "      <td>0</td>\n",
       "    </tr>\n",
       "    <tr>\n",
       "      <th>55</th>\n",
       "      <td>1</td>\n",
       "      <td>1</td>\n",
       "    </tr>\n",
       "  </tbody>\n",
       "</table>\n",
       "</div>"
      ],
      "text/plain": [
       "    Predicted  Actual\n",
       "61          0       0\n",
       "15          0       0\n",
       "24          0       1\n",
       "31          1       1\n",
       "65          1       1\n",
       "12          1       1\n",
       "27          1       1\n",
       "52          1       1\n",
       "7           0       0\n",
       "55          1       1"
      ]
     },
     "execution_count": 34,
     "metadata": {},
     "output_type": "execute_result"
    }
   ],
   "source": [
    "# Display a random sample of 10 rows from the comparison dataframe\n",
    "comp_df.sample(10)"
   ]
  },
  {
   "cell_type": "code",
   "execution_count": 35,
   "id": "ded35770",
   "metadata": {},
   "outputs": [
    {
     "data": {
      "text/plain": [
       "array([[38,  3],\n",
       "       [ 5, 45]], dtype=int64)"
      ]
     },
     "execution_count": 35,
     "metadata": {},
     "output_type": "execute_result"
    }
   ],
   "source": [
    "cm = confusion_matrix(comp_df[\"Predicted\"], comp_df[\"Actual\"])\n",
    "cm"
   ]
  },
  {
   "cell_type": "raw",
   "id": "220395d5",
   "metadata": {},
   "source": [
    "Defines four variables, True_Positive, False_Negative, False_Positive, and True_Negative, and assigns them the values from the confusion matrix cm. These values represent different metrics of our binary classification model's performance.\n",
    "\n",
    "True Positive (TP) is the number of instances that were correctly classified as positive.\n",
    "False Negative (FN) is the number of instances that were actually positive but were classified as negative.\n",
    "False Positive (FP) is the number of instances that were actually negative but were classified as positive.\n",
    "True Negative (TN) is the number of instances that were correctly classified as negative."
   ]
  },
  {
   "cell_type": "code",
   "execution_count": 36,
   "id": "aafbad66",
   "metadata": {},
   "outputs": [
    {
     "name": "stdout",
     "output_type": "stream",
     "text": [
      "True Positive : 38\n",
      "False Negative : 3\n",
      "False Positive : 5\n",
      "True Negative : 45\n"
     ]
    }
   ],
   "source": [
    "True_Positive = cm[0][0]\n",
    "False_Negative = cm[0][1]\n",
    "False_Positive = cm[1][0]\n",
    "True_Negative = cm[1][1]\n",
    "print(f\"True Positive : {True_Positive}\")\n",
    "print(f\"False Negative : {False_Negative}\")\n",
    "print(f\"False Positive : {False_Positive}\")\n",
    "print(f\"True Negative : {True_Negative}\")"
   ]
  },
  {
   "cell_type": "markdown",
   "id": "81a8e8c0",
   "metadata": {},
   "source": [
    "Calling the functions used to evaluate our model and storing it in each different variables"
   ]
  },
  {
   "cell_type": "code",
   "execution_count": 37,
   "id": "3ae2936d",
   "metadata": {},
   "outputs": [],
   "source": [
    "accuracy = Accuracy(True_Positive,True_Negative,False_Positive, False_Negative)\n",
    "precision = Precision(True_Positive, False_Positive)\n",
    "recall = Recall(True_Positive, False_Negative)\n",
    "f1_score = 2 * (precision * recall) / (precision + recall)"
   ]
  },
  {
   "cell_type": "markdown",
   "id": "648bd19e",
   "metadata": {},
   "source": [
    "Printing out the evaluated scores"
   ]
  },
  {
   "cell_type": "code",
   "execution_count": 38,
   "id": "c1cd5531",
   "metadata": {},
   "outputs": [
    {
     "name": "stdout",
     "output_type": "stream",
     "text": [
      "Accuracy : 0.9120879120879121\n",
      "Precision : 0.8837209302325582\n",
      "Recall : 0.926829268292683\n",
      "F1_Score : 0.9047619047619047\n"
     ]
    }
   ],
   "source": [
    "print(f\"Accuracy : {accuracy}\")\n",
    "print(f\"Precision : {precision}\")\n",
    "print(f\"Recall : {recall}\")\n",
    "print(f\"F1_Score : {f1_score}\")"
   ]
  },
  {
   "cell_type": "markdown",
   "id": "3369b277",
   "metadata": {},
   "source": [
    "# Dimensionality Reduction (PCA)"
   ]
  },
  {
   "cell_type": "markdown",
   "id": "db0bd9a4",
   "metadata": {},
   "source": [
    "In this section we will recreate our model but this time using the reduced features we get by applying PCA to our initial features for dimesionality reduction."
   ]
  },
  {
   "cell_type": "markdown",
   "id": "5ce85531",
   "metadata": {},
   "source": [
    "Performing principal component analysis (PCA) on a dataset with scaled features.The PCA object is initialized with n_components=4, which means that the result of the PCA transformation will result in 4 principal components (or reduced dimensions) of the original data. The fit method is applied to the scaled features to fit the PCA model to the data.\n",
    "Finally, the transformed features are obtained by applying the transform method to the original features (feature_df), and the shape of the reduced features is obtained by calling the shape attribute."
   ]
  },
  {
   "cell_type": "code",
   "execution_count": 39,
   "id": "89c62392",
   "metadata": {},
   "outputs": [
    {
     "name": "stdout",
     "output_type": "stream",
     "text": [
      "original features shape : (303, 13)\n",
      "reduced features shape : (303, 4)\n"
     ]
    }
   ],
   "source": [
    "# Creating an instance of PCA with 4 component\n",
    "pca = PCA(4)\n",
    "# Fit the scaled data to the PCA model\n",
    "pca.fit(scaled_df.drop(columns = \"target\"))\n",
    "# Transform the scaled data to reduced features using the PCA model\n",
    "reduced_features = pca.transform(scaled_df.drop(columns = \"target\"))\n",
    "# Print the shape of the original and reduced features\n",
    "print(f\"original features shape : {scaled_df.drop(columns = 'target').shape}\")\n",
    "print(f\"reduced features shape : {reduced_features.shape}\")"
   ]
  },
  {
   "cell_type": "markdown",
   "id": "4d8ee5db",
   "metadata": {},
   "source": [
    "Creating a new Pandas DataFrame called reduced_df from the reduced_features obtained from the PCA transformation. Also adding a new column called \"Target\" to the reduced_dataset DataFrame, which contains the values of the \"target\" column from the original DataFrame (df)."
   ]
  },
  {
   "cell_type": "code",
   "execution_count": 40,
   "id": "3532402f",
   "metadata": {},
   "outputs": [],
   "source": [
    "# Create a dataframe from the reduced features\n",
    "reduced_df = pd.DataFrame(data = reduced_features, columns = [\"feature1\", \"feature2\",\"feature3\", \"feature4\"])\n",
    "# Add a column for our target to the reduced dataframe\n",
    "reduced_df[\"Target\"] = np.array(scaled_df[\"target\"])"
   ]
  },
  {
   "cell_type": "markdown",
   "id": "2b44afbb",
   "metadata": {},
   "source": [
    "Displaying information on the reduced dataframe, such as the number of rows and columns, the data types of columns, and memory usage, among others. "
   ]
  },
  {
   "cell_type": "code",
   "execution_count": 41,
   "id": "f41cff07",
   "metadata": {},
   "outputs": [
    {
     "name": "stdout",
     "output_type": "stream",
     "text": [
      "<class 'pandas.core.frame.DataFrame'>\n",
      "RangeIndex: 303 entries, 0 to 302\n",
      "Data columns (total 5 columns):\n",
      " #   Column    Non-Null Count  Dtype  \n",
      "---  ------    --------------  -----  \n",
      " 0   feature1  303 non-null    float64\n",
      " 1   feature2  303 non-null    float64\n",
      " 2   feature3  303 non-null    float64\n",
      " 3   feature4  303 non-null    float64\n",
      " 4   Target    303 non-null    int64  \n",
      "dtypes: float64(4), int64(1)\n",
      "memory usage: 12.0 KB\n"
     ]
    }
   ],
   "source": [
    "reduced_df.info()"
   ]
  },
  {
   "cell_type": "markdown",
   "id": "87bb2e5e",
   "metadata": {},
   "source": [
    "Splitting the reduced_df into two Dataframes, Train and Test, using the train_test_split function from the scikit-learn library in Python. The function splits the data into two sets, with train_size argument set to 0.7, meaning 70% of the data will be used for training and the remaining 30% for testing."
   ]
  },
  {
   "cell_type": "code",
   "execution_count": 42,
   "id": "0065f550",
   "metadata": {},
   "outputs": [],
   "source": [
    "train, test = tts(reduced_df, train_size = 0.7, random_state = 5)"
   ]
  },
  {
   "cell_type": "markdown",
   "id": "c52c7cf5",
   "metadata": {},
   "source": [
    "Preparing the training data for our machine learning model. The variables x_train and y_train are assigned as features and target columns, respectively."
   ]
  },
  {
   "cell_type": "code",
   "execution_count": 43,
   "id": "d850ed5b",
   "metadata": {},
   "outputs": [
    {
     "name": "stdout",
     "output_type": "stream",
     "text": [
      "x_train shape : (212, 4)\n",
      "y_train shape : (212,)\n"
     ]
    }
   ],
   "source": [
    "# Get the \"feature\" column of the train dataframe\n",
    "x_train = train[[\"feature1\", \"feature2\",\"feature3\", \"feature4\"]]\n",
    "# Get the \"Target\" column of the train dataframe\n",
    "y_train = train.Target\n",
    "# Print the shapes of the x_train and y_train\n",
    "print(f\"x_train shape : {x_train.shape}\")\n",
    "print(f\"y_train shape : {y_train.shape}\")"
   ]
  },
  {
   "cell_type": "markdown",
   "id": "5536a22c",
   "metadata": {},
   "source": [
    "Preparing the testing data for our machine learning model. The variables x_train and y_train are assigned as features and target columns, respectively."
   ]
  },
  {
   "cell_type": "code",
   "execution_count": 44,
   "id": "4204751a",
   "metadata": {},
   "outputs": [
    {
     "name": "stdout",
     "output_type": "stream",
     "text": [
      "x_test shape : (91, 4)\n",
      "y_test shape : (91,)\n"
     ]
    }
   ],
   "source": [
    "# Get the \"feature\" column of the test dataframe\n",
    "x_test = test[[\"feature1\", \"feature2\",\"feature3\", \"feature4\"]]\n",
    "# Get the \"Target\" column of the test dataframe\n",
    "y_test = test.Target\n",
    "# Print the shapes of the x_test and y_test\n",
    "print(f\"x_test shape : {x_test.shape}\")\n",
    "print(f\"y_test shape : {y_test.shape}\")"
   ]
  },
  {
   "cell_type": "markdown",
   "id": "fe4d00b0",
   "metadata": {},
   "source": [
    "Creating an object of class Logistic_Regression and naming it model_pca as we are using the reduced version of the dataframe to train our model. Also calling the fit method is used to fit our logistic model to the training data, represented by \"x_train\" and \"y_train\". The method returns two values, \"updated_w\" and \"updated_b\", which are the updated values for the model's weights and bias, respectively. "
   ]
  },
  {
   "cell_type": "code",
   "execution_count": 45,
   "id": "41d6d504",
   "metadata": {},
   "outputs": [
    {
     "name": "stdout",
     "output_type": "stream",
     "text": [
      "updated_weights (pca) : [-1.13018937  0.3705993  -0.17034495  0.50967846])\n",
      "updated_bias (pca) : 0.10481550182139268)\n"
     ]
    }
   ],
   "source": [
    "# Create an instance of the Logistic Regression model\n",
    "model_pca = Logistic_Regression()\n",
    "# Fit the model using the training data\n",
    "updated_w, updated_b = model_pca.fit(x_train, y_train)\n",
    "print(f\"updated_weights (pca) : {updated_w})\")\n",
    "print(f\"updated_bias (pca) : {updated_b})\")"
   ]
  },
  {
   "cell_type": "markdown",
   "id": "3142fb4f",
   "metadata": {},
   "source": [
    "Using the predict method of our machine learning model to make predictions on the testing data."
   ]
  },
  {
   "cell_type": "code",
   "execution_count": 46,
   "id": "ad6cde1e",
   "metadata": {},
   "outputs": [],
   "source": [
    "y_pred = model_pca.predict(x_test) # making prediction on test features"
   ]
  },
  {
   "cell_type": "markdown",
   "id": "c10afae4",
   "metadata": {},
   "source": [
    "Evaluating the performance of our machine learning model on the testing data using confusion matrix."
   ]
  },
  {
   "cell_type": "code",
   "execution_count": 47,
   "id": "05909d5e",
   "metadata": {},
   "outputs": [
    {
     "data": {
      "text/plain": [
       "array([[39,  4],\n",
       "       [ 4, 44]], dtype=int64)"
      ]
     },
     "execution_count": 47,
     "metadata": {},
     "output_type": "execute_result"
    }
   ],
   "source": [
    "cm_pca = confusion_matrix(y_pred, y_test)\n",
    "cm_pca"
   ]
  },
  {
   "cell_type": "raw",
   "id": "cec8b1bf",
   "metadata": {},
   "source": [
    "Defines four variables, True_Positive_pca, False_Negative_pca, False_Positive_pca, and True_Negative_pca, and assigns them the values from the confusion matrix cm_pca. These values represent different metrics of our binary classification model's performance.\n",
    "\n",
    "True Positive (TP) is the number of instances that were correctly classified as positive.\n",
    "False Negative (FN) is the number of instances that were actually positive but were classified as negative.\n",
    "False Positive (FP) is the number of instances that were actually negative but were classified as positive.\n",
    "True Negative (TN) is the number of instances that were correctly classified as negative."
   ]
  },
  {
   "cell_type": "code",
   "execution_count": 48,
   "id": "90af3a9d",
   "metadata": {},
   "outputs": [
    {
     "name": "stdout",
     "output_type": "stream",
     "text": [
      "True Positive : 39\n",
      "False Negative : 4\n",
      "False Positive : 4\n",
      "True Negative : 44\n"
     ]
    }
   ],
   "source": [
    "True_Positive_pca = cm_pca[0][0]\n",
    "False_Negative_pca = cm_pca[0][1]\n",
    "False_Positive_pca = cm_pca[1][0]\n",
    "True_Negative_pca = cm_pca[1][1]\n",
    "print(f\"True Positive : {True_Positive_pca}\")\n",
    "print(f\"False Negative : {False_Negative_pca}\")\n",
    "print(f\"False Positive : {False_Positive_pca}\")\n",
    "print(f\"True Negative : {True_Negative_pca}\")"
   ]
  },
  {
   "cell_type": "markdown",
   "id": "2e1eabb9",
   "metadata": {},
   "source": [
    "Calling the functions used to evaluate our pca model and storing it in each different variables"
   ]
  },
  {
   "cell_type": "code",
   "execution_count": 49,
   "id": "839ec493",
   "metadata": {},
   "outputs": [],
   "source": [
    "accuracy_pca = Accuracy(True_Positive_pca,True_Negative_pca,False_Positive_pca, False_Negative_pca)\n",
    "precision_pca = Precision(True_Positive_pca, False_Positive_pca)\n",
    "recall_pca = Recall(True_Positive_pca, False_Negative_pca)\n",
    "f1_score_pca = 2 * (precision_pca * recall_pca) / (precision_pca + recall_pca)"
   ]
  },
  {
   "cell_type": "markdown",
   "id": "82e2cbef",
   "metadata": {},
   "source": [
    "Printing out the evaluated scores"
   ]
  },
  {
   "cell_type": "code",
   "execution_count": 50,
   "id": "1e03c00f",
   "metadata": {},
   "outputs": [
    {
     "name": "stdout",
     "output_type": "stream",
     "text": [
      "Accuracy : 0.9120879120879121\n",
      "Precision : 0.9069767441860465\n",
      "Recall : 0.9069767441860465\n",
      "F1_Score : 0.9069767441860465\n"
     ]
    }
   ],
   "source": [
    "print(f\"Accuracy : {accuracy_pca}\")\n",
    "print(f\"Precision : {precision_pca}\")\n",
    "print(f\"Recall : {recall_pca}\")\n",
    "print(f\"F1_Score : {f1_score_pca}\")"
   ]
  },
  {
   "cell_type": "markdown",
   "id": "54d9ded7",
   "metadata": {},
   "source": [
    "# Conclusion"
   ]
  },
  {
   "cell_type": "markdown",
   "id": "2333d496",
   "metadata": {},
   "source": [
    "In this section we will summarize the results and findings of our study and analysis in the context of our model based on the the evaluation metrics calculated for the two classification models trained on the reduced and original datafarme."
   ]
  },
  {
   "cell_type": "code",
   "execution_count": 51,
   "id": "2eff35a7",
   "metadata": {},
   "outputs": [
    {
     "name": "stdout",
     "output_type": "stream",
     "text": [
      "Accuracy : 0.9120879120879121\n",
      "Accuracy (pca) : 0.9120879120879121\n",
      "---------------------------------------------------------------\n",
      "Precision : 0.8837209302325582\n",
      "Precision (pca): 0.9069767441860465\n",
      "---------------------------------------------------------------\n",
      "Recall : 0.926829268292683\n",
      "Recall (pca): 0.9069767441860465\n",
      "---------------------------------------------------------------\n",
      "F1_Score : 0.9047619047619047\n",
      "F1_Score (pca): 0.9069767441860465\n"
     ]
    }
   ],
   "source": [
    "print(f\"Accuracy : {accuracy}\")\n",
    "print(f\"Accuracy (pca) : {accuracy_pca}\")\n",
    "print(\"---------------------------------------------------------------\")\n",
    "print(f\"Precision : {precision}\")\n",
    "print(f\"Precision (pca): {precision_pca}\")\n",
    "print(\"---------------------------------------------------------------\")\n",
    "print(f\"Recall : {recall}\")\n",
    "print(f\"Recall (pca): {recall_pca}\")\n",
    "print(\"---------------------------------------------------------------\")\n",
    "print(f\"F1_Score : {f1_score}\")\n",
    "print(f\"F1_Score (pca): {f1_score_pca}\")"
   ]
  },
  {
   "cell_type": "markdown",
   "id": "2d0f7a73",
   "metadata": {},
   "source": [
    "From above displayed scores we can see that using PCA to reduce the data dimensionality before training the model did not significantly impact the performance of the model build on original dataset.\n",
    "\n",
    "The accuracy is the same for both models, with a value of 0.912. This means that the models correctly predicted the outcome 91.2% of the time.\n",
    "Precision improved slightly from 0.8837 to 0.9069 when PCA was used, but this difference is not very significant.\n",
    "Recall decreased slightly from 0.9268to 0.90697 when PCA was used, but this difference is not very significant.\n",
    "F1 score is also the same for both models, with a value of 0.9047, which indicates that the models have balanced performance.\n",
    "Overall, it appears that using PCA did not have a major impact on the model's performance in this case. The results from both models are similar and indicate good performance."
   ]
  }
 ],
 "metadata": {
  "kernelspec": {
   "display_name": "Python 3",
   "language": "python",
   "name": "python3"
  },
  "language_info": {
   "codemirror_mode": {
    "name": "ipython",
    "version": 3
   },
   "file_extension": ".py",
   "mimetype": "text/x-python",
   "name": "python",
   "nbconvert_exporter": "python",
   "pygments_lexer": "ipython3",
   "version": "3.11.0"
  },
  "vscode": {
   "interpreter": {
    "hash": "a155433e1d56414ad12da5176b9b893f407f62386e927ead687597b5c8c41c73"
   }
  }
 },
 "nbformat": 4,
 "nbformat_minor": 5
}
